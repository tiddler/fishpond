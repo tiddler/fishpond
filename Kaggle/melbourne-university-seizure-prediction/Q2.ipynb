{
 "cells": [
  {
   "cell_type": "markdown",
   "metadata": {},
   "source": [
    "## STAT 841 Assignment 1  Q2\n",
    "Name   : Ruifan Yu  \n",
    "Stu ID : 20664766  \n",
    "Email  : ruifan.yu@uwaterloo.ca  "
   ]
  },
  {
   "cell_type": "markdown",
   "metadata": {},
   "source": [
    "---\n",
    "### (a) \n",
    "### The Logistic Regression of the data"
   ]
  },
  {
   "cell_type": "code",
   "execution_count": 1,
   "metadata": {
    "collapsed": true
   },
   "outputs": [],
   "source": [
    "import pandas as pd\n",
    "import numpy as np\n",
    "import matplotlib.pyplot as plt\n",
    "import seaborn as sns\n",
    "import math\n",
    "import statsmodels.api as sm\n",
    "from sklearn.metrics import confusion_matrix"
   ]
  },
  {
   "cell_type": "code",
   "execution_count": 2,
   "metadata": {
    "collapsed": true
   },
   "outputs": [],
   "source": [
    "df = pd.read_csv('Oscar2012.csv')"
   ]
  },
  {
   "cell_type": "code",
   "execution_count": 3,
   "metadata": {
    "collapsed": false
   },
   "outputs": [
    {
     "data": {
      "text/html": [
       "<div>\n",
       "<table border=\"1\" class=\"dataframe\">\n",
       "  <thead>\n",
       "    <tr style=\"text-align: right;\">\n",
       "      <th></th>\n",
       "      <th>year</th>\n",
       "      <th>title</th>\n",
       "      <th>winner</th>\n",
       "      <th>oscar_nominations</th>\n",
       "      <th>Golden_Globes</th>\n",
       "      <th>comedy</th>\n",
       "    </tr>\n",
       "  </thead>\n",
       "  <tbody>\n",
       "    <tr>\n",
       "      <th>0</th>\n",
       "      <td>1984</td>\n",
       "      <td>A Soldier's Story</td>\n",
       "      <td>0</td>\n",
       "      <td>3</td>\n",
       "      <td>0</td>\n",
       "      <td>0</td>\n",
       "    </tr>\n",
       "    <tr>\n",
       "      <th>1</th>\n",
       "      <td>1984</td>\n",
       "      <td>Places in the Heart</td>\n",
       "      <td>0</td>\n",
       "      <td>7</td>\n",
       "      <td>1</td>\n",
       "      <td>0</td>\n",
       "    </tr>\n",
       "    <tr>\n",
       "      <th>2</th>\n",
       "      <td>1984</td>\n",
       "      <td>The Killing Fields</td>\n",
       "      <td>0</td>\n",
       "      <td>7</td>\n",
       "      <td>1</td>\n",
       "      <td>0</td>\n",
       "    </tr>\n",
       "    <tr>\n",
       "      <th>3</th>\n",
       "      <td>1984</td>\n",
       "      <td>A Passage to India</td>\n",
       "      <td>0</td>\n",
       "      <td>11</td>\n",
       "      <td>3</td>\n",
       "      <td>0</td>\n",
       "    </tr>\n",
       "    <tr>\n",
       "      <th>4</th>\n",
       "      <td>1984</td>\n",
       "      <td>Amadeus</td>\n",
       "      <td>1</td>\n",
       "      <td>11</td>\n",
       "      <td>4</td>\n",
       "      <td>0</td>\n",
       "    </tr>\n",
       "  </tbody>\n",
       "</table>\n",
       "</div>"
      ],
      "text/plain": [
       "   year                title  winner  oscar_nominations  Golden_Globes  comedy\n",
       "0  1984    A Soldier's Story       0                  3              0       0\n",
       "1  1984  Places in the Heart       0                  7              1       0\n",
       "2  1984   The Killing Fields       0                  7              1       0\n",
       "3  1984   A Passage to India       0                 11              3       0\n",
       "4  1984              Amadeus       1                 11              4       0"
      ]
     },
     "execution_count": 3,
     "metadata": {},
     "output_type": "execute_result"
    }
   ],
   "source": [
    "df.head()"
   ]
  },
  {
   "cell_type": "code",
   "execution_count": 4,
   "metadata": {
    "collapsed": false
   },
   "outputs": [
    {
     "data": {
      "text/plain": [
       "(132, 6)"
      ]
     },
     "execution_count": 4,
     "metadata": {},
     "output_type": "execute_result"
    }
   ],
   "source": [
    "df.shape"
   ]
  },
  {
   "cell_type": "code",
   "execution_count": 5,
   "metadata": {
    "collapsed": true
   },
   "outputs": [],
   "source": [
    "X = df.ix[:,'oscar_nominations': 'comedy']"
   ]
  },
  {
   "cell_type": "code",
   "execution_count": 6,
   "metadata": {
    "collapsed": false
   },
   "outputs": [],
   "source": [
    "Y = df['winner']"
   ]
  },
  {
   "cell_type": "code",
   "execution_count": 7,
   "metadata": {
    "collapsed": false
   },
   "outputs": [
    {
     "name": "stdout",
     "output_type": "stream",
     "text": [
      "                 Generalized Linear Model Regression Results                  \n",
      "==============================================================================\n",
      "Dep. Variable:                 winner   No. Observations:                  132\n",
      "Model:                            GLM   Df Residuals:                      128\n",
      "Model Family:                Binomial   Df Model:                            3\n",
      "Link Function:                  logit   Scale:                             1.0\n",
      "Method:                          IRLS   Log-Likelihood:                -40.418\n",
      "Date:                Wed, 21 Sep 2016   Deviance:                       80.835\n",
      "Time:                        19:19:06   Pearson chi2:                     133.\n",
      "No. Iterations:                     8                                         \n",
      "=====================================================================================\n",
      "                        coef    std err          z      P>|z|      [95.0% Conf. Int.]\n",
      "-------------------------------------------------------------------------------------\n",
      "Intercept            -6.6843      1.200     -5.572      0.000        -9.036    -4.333\n",
      "oscar_nominations     0.5273      0.128      4.135      0.000         0.277     0.777\n",
      "Golden_Globes         0.4914      0.185      2.663      0.008         0.130     0.853\n",
      "comedy               -1.2936      1.335     -0.969      0.332        -3.909     1.322\n",
      "=====================================================================================\n"
     ]
    }
   ],
   "source": [
    "res = sm.formula.glm(\"winner ~ oscar_nominations + Golden_Globes + comedy\",\n",
    "                     family=sm.families.Binomial(), \n",
    "                     data=df).fit()\n",
    "print(res.summary())"
   ]
  },
  {
   "cell_type": "markdown",
   "metadata": {},
   "source": [
    "### From the output, the coefficient of `Oscar_nominations` is 0.5273 and means that we would expect a 0.5273 unit increase in the log odds and $e^{0.5273}=1.69435$ unit increase in the odds of `winner` with every one-unit increase in `Oscar_nominations`, with all other variables held constant.  \n",
    "### the `p-value` of `Oscar_nominations` is small enough, that means this coefficient is statistically significant.\n",
    "---"
   ]
  },
  {
   "cell_type": "markdown",
   "metadata": {},
   "source": [
    "### (b) \n",
    "### Predict Winner based on the model"
   ]
  },
  {
   "cell_type": "code",
   "execution_count": 8,
   "metadata": {
    "collapsed": true
   },
   "outputs": [],
   "source": [
    "prob_res = res.predict()\n",
    "change = np.vectorize(lambda x: 1 if x >= 0.5 else 0)\n",
    "binary_res = change(prob_res)"
   ]
  },
  {
   "cell_type": "code",
   "execution_count": 9,
   "metadata": {
    "collapsed": false
   },
   "outputs": [
    {
     "name": "stdout",
     "output_type": "stream",
     "text": [
      "The prediction of these 132 samples is \n",
      "[0 0 0 1 1 0 0 0 0 1 0 0 0 0 0 0 0 0 0 1 0 0 0 0 0 0 0 0 0 0 0 0 0 0 1 0 0\n",
      " 0 0 0 0 0 0 0 0 0 0 0 0 1 0 0 0 0 1 0 0 0 0 0 0 0 0 0 1 0 0 0 0 1 0 0 0 1\n",
      " 1 0 0 0 0 0 0 0 0 0 1 0 0 1 0 0 0 0 0 0 1 0 0 0 0 1 0 0 0 0 1 0 0 0 0 0 0\n",
      " 0 0 0 0 1 1 0 0 0 0 0 0 1 0 0 0 1 0 0 0 0]\n"
     ]
    }
   ],
   "source": [
    "print('The prediction of these 132 samples is ')\n",
    "print(binary_res)"
   ]
  },
  {
   "cell_type": "code",
   "execution_count": 10,
   "metadata": {
    "collapsed": false
   },
   "outputs": [
    {
     "name": "stdout",
     "output_type": "stream",
     "text": [
      "The number of right prediction is 115\n",
      "The number of wrong prediction is 17\n",
      "The correctness percentage is 87.121%\n"
     ]
    }
   ],
   "source": [
    "print('The number of right prediction is', sum(binary_res == Y))\n",
    "print('The number of wrong prediction is', sum(binary_res != Y))\n",
    "print('The correctness percentage is {0:.3f}%'.format(sum(binary_res == Y) / len(Y) * 100))"
   ]
  },
  {
   "cell_type": "markdown",
   "metadata": {},
   "source": [
    "### The following table shows the wrong predictions"
   ]
  },
  {
   "cell_type": "code",
   "execution_count": 11,
   "metadata": {
    "collapsed": false
   },
   "outputs": [
    {
     "data": {
      "text/html": [
       "<div>\n",
       "<table border=\"1\" class=\"dataframe\">\n",
       "  <thead>\n",
       "    <tr style=\"text-align: right;\">\n",
       "      <th></th>\n",
       "      <th>year</th>\n",
       "      <th>title</th>\n",
       "      <th>winner</th>\n",
       "      <th>oscar_nominations</th>\n",
       "      <th>Golden_Globes</th>\n",
       "      <th>comedy</th>\n",
       "    </tr>\n",
       "  </thead>\n",
       "  <tbody>\n",
       "    <tr>\n",
       "      <th>3</th>\n",
       "      <td>1984</td>\n",
       "      <td>A Passage to India</td>\n",
       "      <td>0</td>\n",
       "      <td>11</td>\n",
       "      <td>3</td>\n",
       "      <td>0</td>\n",
       "    </tr>\n",
       "    <tr>\n",
       "      <th>14</th>\n",
       "      <td>1986</td>\n",
       "      <td>Platoon</td>\n",
       "      <td>1</td>\n",
       "      <td>8</td>\n",
       "      <td>3</td>\n",
       "      <td>0</td>\n",
       "    </tr>\n",
       "    <tr>\n",
       "      <th>24</th>\n",
       "      <td>1988</td>\n",
       "      <td>Rain Man</td>\n",
       "      <td>1</td>\n",
       "      <td>8</td>\n",
       "      <td>2</td>\n",
       "      <td>0</td>\n",
       "    </tr>\n",
       "    <tr>\n",
       "      <th>28</th>\n",
       "      <td>1989</td>\n",
       "      <td>Driving Miss Daisy</td>\n",
       "      <td>1</td>\n",
       "      <td>9</td>\n",
       "      <td>3</td>\n",
       "      <td>0</td>\n",
       "    </tr>\n",
       "    <tr>\n",
       "      <th>35</th>\n",
       "      <td>1991</td>\n",
       "      <td>The Silence of the Lambs</td>\n",
       "      <td>1</td>\n",
       "      <td>7</td>\n",
       "      <td>1</td>\n",
       "      <td>0</td>\n",
       "    </tr>\n",
       "    <tr>\n",
       "      <th>44</th>\n",
       "      <td>1992</td>\n",
       "      <td>Unforgiven</td>\n",
       "      <td>1</td>\n",
       "      <td>9</td>\n",
       "      <td>2</td>\n",
       "      <td>0</td>\n",
       "    </tr>\n",
       "    <tr>\n",
       "      <th>59</th>\n",
       "      <td>1995</td>\n",
       "      <td>Braveheart</td>\n",
       "      <td>1</td>\n",
       "      <td>10</td>\n",
       "      <td>1</td>\n",
       "      <td>0</td>\n",
       "    </tr>\n",
       "    <tr>\n",
       "      <th>73</th>\n",
       "      <td>1998</td>\n",
       "      <td>Saving Private Ryan</td>\n",
       "      <td>0</td>\n",
       "      <td>11</td>\n",
       "      <td>2</td>\n",
       "      <td>0</td>\n",
       "    </tr>\n",
       "    <tr>\n",
       "      <th>79</th>\n",
       "      <td>1999</td>\n",
       "      <td>American Beauty</td>\n",
       "      <td>1</td>\n",
       "      <td>8</td>\n",
       "      <td>3</td>\n",
       "      <td>0</td>\n",
       "    </tr>\n",
       "    <tr>\n",
       "      <th>87</th>\n",
       "      <td>2001</td>\n",
       "      <td>The Lord of the Rings: The Fellowship of the Ring</td>\n",
       "      <td>0</td>\n",
       "      <td>13</td>\n",
       "      <td>0</td>\n",
       "      <td>0</td>\n",
       "    </tr>\n",
       "    <tr>\n",
       "      <th>89</th>\n",
       "      <td>2001</td>\n",
       "      <td>A Beautiful Mind</td>\n",
       "      <td>1</td>\n",
       "      <td>8</td>\n",
       "      <td>4</td>\n",
       "      <td>0</td>\n",
       "    </tr>\n",
       "    <tr>\n",
       "      <th>103</th>\n",
       "      <td>2004</td>\n",
       "      <td>Million Dollar Baby</td>\n",
       "      <td>1</td>\n",
       "      <td>7</td>\n",
       "      <td>2</td>\n",
       "      <td>0</td>\n",
       "    </tr>\n",
       "    <tr>\n",
       "      <th>104</th>\n",
       "      <td>2004</td>\n",
       "      <td>The Aviator</td>\n",
       "      <td>0</td>\n",
       "      <td>11</td>\n",
       "      <td>3</td>\n",
       "      <td>0</td>\n",
       "    </tr>\n",
       "    <tr>\n",
       "      <th>107</th>\n",
       "      <td>2005</td>\n",
       "      <td>Crash</td>\n",
       "      <td>1</td>\n",
       "      <td>6</td>\n",
       "      <td>0</td>\n",
       "      <td>0</td>\n",
       "    </tr>\n",
       "    <tr>\n",
       "      <th>111</th>\n",
       "      <td>2006</td>\n",
       "      <td>The Departed</td>\n",
       "      <td>1</td>\n",
       "      <td>5</td>\n",
       "      <td>1</td>\n",
       "      <td>0</td>\n",
       "    </tr>\n",
       "    <tr>\n",
       "      <th>116</th>\n",
       "      <td>2011</td>\n",
       "      <td>The Social Network</td>\n",
       "      <td>0</td>\n",
       "      <td>8</td>\n",
       "      <td>6</td>\n",
       "      <td>0</td>\n",
       "    </tr>\n",
       "    <tr>\n",
       "      <th>127</th>\n",
       "      <td>2012</td>\n",
       "      <td>Hugo</td>\n",
       "      <td>0</td>\n",
       "      <td>11</td>\n",
       "      <td>3</td>\n",
       "      <td>0</td>\n",
       "    </tr>\n",
       "  </tbody>\n",
       "</table>\n",
       "</div>"
      ],
      "text/plain": [
       "     year                                              title  winner  \\\n",
       "3    1984                                 A Passage to India       0   \n",
       "14   1986                                            Platoon       1   \n",
       "24   1988                                           Rain Man       1   \n",
       "28   1989                                 Driving Miss Daisy       1   \n",
       "35   1991                           The Silence of the Lambs       1   \n",
       "44   1992                                         Unforgiven       1   \n",
       "59   1995                                         Braveheart       1   \n",
       "73   1998                                Saving Private Ryan       0   \n",
       "79   1999                                    American Beauty       1   \n",
       "87   2001  The Lord of the Rings: The Fellowship of the Ring       0   \n",
       "89   2001                                   A Beautiful Mind       1   \n",
       "103  2004                                Million Dollar Baby       1   \n",
       "104  2004                                        The Aviator       0   \n",
       "107  2005                                              Crash       1   \n",
       "111  2006                                       The Departed       1   \n",
       "116  2011                                 The Social Network       0   \n",
       "127  2012                                               Hugo       0   \n",
       "\n",
       "     oscar_nominations  Golden_Globes  comedy  \n",
       "3                   11              3       0  \n",
       "14                   8              3       0  \n",
       "24                   8              2       0  \n",
       "28                   9              3       0  \n",
       "35                   7              1       0  \n",
       "44                   9              2       0  \n",
       "59                  10              1       0  \n",
       "73                  11              2       0  \n",
       "79                   8              3       0  \n",
       "87                  13              0       0  \n",
       "89                   8              4       0  \n",
       "103                  7              2       0  \n",
       "104                 11              3       0  \n",
       "107                  6              0       0  \n",
       "111                  5              1       0  \n",
       "116                  8              6       0  \n",
       "127                 11              3       0  "
      ]
     },
     "execution_count": 11,
     "metadata": {},
     "output_type": "execute_result"
    }
   ],
   "source": [
    "df[Y != binary_res]"
   ]
  },
  {
   "cell_type": "markdown",
   "metadata": {},
   "source": [
    "### the (2, 2) confusion matrix is"
   ]
  },
  {
   "cell_type": "code",
   "execution_count": 12,
   "metadata": {
    "collapsed": false
   },
   "outputs": [
    {
     "data": {
      "text/plain": [
       "array([[101,   6],\n",
       "       [ 11,  14]])"
      ]
     },
     "execution_count": 12,
     "metadata": {},
     "output_type": "execute_result"
    }
   ],
   "source": [
    "confusion_matrix(Y, binary_res)"
   ]
  },
  {
   "cell_type": "markdown",
   "metadata": {},
   "source": [
    "### Confusion Matrix\n",
    "|    |Predicted No|Predicted Yes|Sum|\n",
    "|:---:|:----------:|:----------:|:--:|\n",
    "|Actual No|101|6|107|\n",
    "|Actual Yes|11|14|25|\n",
    "|Sum|112|20|132|"
   ]
  },
  {
   "cell_type": "markdown",
   "metadata": {},
   "source": [
    "### according to the matrix, the percentage of misclassified movies is \n",
    "$$P=\\frac{11+6}{132}=0.12879=12.879\\%$$\n",
    "---"
   ]
  },
  {
   "cell_type": "markdown",
   "metadata": {},
   "source": [
    "### (c)\n",
    "### For the movie “The theory of everything”, the input is (5, 5, 0), the coefficients are "
   ]
  },
  {
   "cell_type": "code",
   "execution_count": 13,
   "metadata": {
    "collapsed": false
   },
   "outputs": [
    {
     "data": {
      "text/plain": [
       "Intercept           -6.684267\n",
       "oscar_nominations    0.527261\n",
       "Golden_Globes        0.491414\n",
       "comedy              -1.293635\n",
       "dtype: float64"
      ]
     },
     "execution_count": 13,
     "metadata": {},
     "output_type": "execute_result"
    }
   ],
   "source": [
    "res.params"
   ]
  },
  {
   "cell_type": "code",
   "execution_count": 14,
   "metadata": {
    "collapsed": true
   },
   "outputs": [],
   "source": [
    "b_0 = res.params[0]\n",
    "b_1 = res.params[1]\n",
    "b_2 = res.params[2]\n",
    "b_3 = res.params[3]"
   ]
  },
  {
   "cell_type": "markdown",
   "metadata": {},
   "source": [
    "### The probability is  "
   ]
  },
  {
   "cell_type": "code",
   "execution_count": 15,
   "metadata": {
    "collapsed": false
   },
   "outputs": [
    {
     "data": {
      "text/plain": [
       "0.16925816304294056"
      ]
     },
     "execution_count": 15,
     "metadata": {},
     "output_type": "execute_result"
    }
   ],
   "source": [
    "1 / (1 + math.exp(-(b_0 + b_1 * 5 + b_2 * 5 + b_3 * 0)))"
   ]
  },
  {
   "cell_type": "markdown",
   "metadata": {},
   "source": [
    "---\n",
    "### (d)\n",
    "### (i)\n",
    "### increase the number of variables by adding the interactions and squared term\n",
    "### That means adding `oscar_nominations:Golden_Globes`, `oscar_nominations:comedy`, `Golden_Globes:comedy`, `oscar_nominations^2`, `Golden_Globes^2` into model\n",
    "### Notice that `comedy` is either 0 or 1, so `comedy^2` is exactly same to `comedy`. Therefore, `comedy^2` will be ignored. "
   ]
  },
  {
   "cell_type": "code",
   "execution_count": 16,
   "metadata": {
    "collapsed": false
   },
   "outputs": [
    {
     "name": "stdout",
     "output_type": "stream",
     "text": [
      "                 Generalized Linear Model Regression Results                  \n",
      "==============================================================================\n",
      "Dep. Variable:                 winner   No. Observations:                  132\n",
      "Model:                            GLM   Df Residuals:                      123\n",
      "Model Family:                Binomial   Df Model:                            8\n",
      "Link Function:                  logit   Scale:                             1.0\n",
      "Method:                          IRLS   Log-Likelihood:                -35.126\n",
      "Date:                Tue, 20 Sep 2016   Deviance:                       70.253\n",
      "Time:                        23:28:12   Pearson chi2:                     122.\n",
      "No. Iterations:                    25                                         \n",
      "===================================================================================================\n",
      "                                      coef    std err          z      P>|z|      [95.0% Conf. Int.]\n",
      "---------------------------------------------------------------------------------------------------\n",
      "Intercept                          -2.9357      1.725     -1.702      0.089        -6.317     0.446\n",
      "oscar_nominations                  -0.2426      0.284     -0.854      0.393        -0.800     0.314\n",
      "Golden_Globes                      -1.3477      0.889     -1.516      0.130        -3.090     0.395\n",
      "comedy                           -129.0200   3.61e+05     -0.000      1.000     -7.08e+05  7.08e+05\n",
      "oscar_nominations:Golden_Globes     0.2268      0.108      2.098      0.036         0.015     0.439\n",
      "oscar_nominations:comedy            5.4581   7.72e+04   7.07e-05      1.000     -1.51e+05  1.51e+05\n",
      "Golden_Globes:comedy               15.8907    8.5e+04      0.000      1.000     -1.67e+05  1.67e+05\n",
      "oscar_nominations ^ 2               0.3149      0.168      1.872      0.061        -0.015     0.645\n",
      "Golden_Globes ^ 2                  -0.1396      0.180     -0.777      0.437        -0.492     0.213\n",
      "===================================================================================================\n"
     ]
    }
   ],
   "source": [
    "res_full = sm.formula.glm(\"winner ~ oscar_nominations + Golden_Globes + comedy +\\\n",
    "                        oscar_nominations:Golden_Globes + oscar_nominations:comedy + Golden_Globes:comedy +\\\n",
    "                        oscar_nominations^2 + Golden_Globes^2\",\n",
    "                     family=sm.families.Binomial(),\n",
    "                     data=df).fit()\n",
    "print(res_full.summary())"
   ]
  },
  {
   "cell_type": "markdown",
   "metadata": {},
   "source": [
    "### By `Backward Selection`, the variable with largest `p-value` will be removed, the remaining variables are used to another new fit. Repeat this process until all `p-value`s of variable are smaller than significant level $\\alpha$. In this case, $\\alpha=10\\%$, I am doing backward selection by hand and repeat the regression. During selection, `comedy`, `oscar_nominations:comedy`, `Golden_Globes:comedy`, , `oscar_nominations`, `Golden_Globes^2` will be removed  \n",
    "### the remaining variables are `Golden_Globes`, `oscar_nominations:Golden_Globes`, `oscar_nominations^2`  \n",
    "### All the `p-value`s are smaller than 0.1"
   ]
  },
  {
   "cell_type": "code",
   "execution_count": 17,
   "metadata": {
    "collapsed": false
   },
   "outputs": [
    {
     "name": "stdout",
     "output_type": "stream",
     "text": [
      "                 Generalized Linear Model Regression Results                  \n",
      "==============================================================================\n",
      "Dep. Variable:                 winner   No. Observations:                  132\n",
      "Model:                            GLM   Df Residuals:                      128\n",
      "Model Family:                Binomial   Df Model:                            3\n",
      "Link Function:                  logit   Scale:                             1.0\n",
      "Method:                          IRLS   Log-Likelihood:                -36.919\n",
      "Date:                Tue, 20 Sep 2016   Deviance:                       73.838\n",
      "Time:                        23:28:39   Pearson chi2:                     129.\n",
      "No. Iterations:                     8                                         \n",
      "===================================================================================================\n",
      "                                      coef    std err          z      P>|z|      [95.0% Conf. Int.]\n",
      "---------------------------------------------------------------------------------------------------\n",
      "Intercept                          -4.3693      1.104     -3.956      0.000        -6.534    -2.205\n",
      "Golden_Globes                      -1.1769      0.642     -1.834      0.067        -2.435     0.081\n",
      "oscar_nominations:Golden_Globes     0.1935      0.073      2.647      0.008         0.050     0.337\n",
      "oscar_nominations ^ 2               0.2306      0.128      1.808      0.071        -0.019     0.481\n",
      "===================================================================================================\n"
     ]
    }
   ],
   "source": [
    "res_select = sm.formula.glm(\"winner ~ Golden_Globes +\\\n",
    "                        oscar_nominations:Golden_Globes +\\\n",
    "                        oscar_nominations^2\",\n",
    "                     family=sm.families.Binomial(),\n",
    "                     data=df).fit()\n",
    "print(res_select.summary())"
   ]
  },
  {
   "cell_type": "markdown",
   "metadata": {},
   "source": [
    "### (ii)\n",
    "### Use this new model to fit the data"
   ]
  },
  {
   "cell_type": "code",
   "execution_count": 18,
   "metadata": {
    "collapsed": false
   },
   "outputs": [],
   "source": [
    "prob_res_select = res_select.predict()\n",
    "binary_res_select = change(prob_res_select)"
   ]
  },
  {
   "cell_type": "code",
   "execution_count": 19,
   "metadata": {
    "collapsed": false
   },
   "outputs": [
    {
     "name": "stdout",
     "output_type": "stream",
     "text": [
      "The prediction of these 132 samples is \n",
      "[0 0 0 1 1 0 0 0 0 1 0 0 0 0 0 0 0 0 0 1 0 0 0 0 0 0 0 0 0 0 0 0 0 0 1 0 0\n",
      " 0 0 0 0 0 0 0 0 0 0 0 0 1 0 0 0 0 1 0 0 0 0 0 0 0 0 0 1 0 0 0 0 1 0 0 0 0\n",
      " 1 0 0 0 0 0 0 0 0 0 1 0 0 0 0 0 0 0 0 0 1 0 0 0 0 1 0 0 0 0 1 0 0 0 0 0 0\n",
      " 0 0 0 0 1 1 0 0 0 0 0 0 1 0 0 0 1 0 0 0 0]\n"
     ]
    }
   ],
   "source": [
    "print('The prediction of these 132 samples is ')\n",
    "print(binary_res_select)"
   ]
  },
  {
   "cell_type": "code",
   "execution_count": 20,
   "metadata": {
    "collapsed": false
   },
   "outputs": [
    {
     "name": "stdout",
     "output_type": "stream",
     "text": [
      "The number of right prediction is 117\n",
      "The number of wrong prediction is 15\n",
      "The correctness percentage is 88.636%\n"
     ]
    }
   ],
   "source": [
    "print('The number of right prediction is', sum(binary_res_select == Y))\n",
    "print('The number of wrong prediction is', sum(binary_res_select != Y))\n",
    "print('The correctness percentage is {0:.3f}%'.format(sum(binary_res_select == Y) / len(Y) * 100))"
   ]
  },
  {
   "cell_type": "markdown",
   "metadata": {},
   "source": [
    "### The confusion matrix of the new model is"
   ]
  },
  {
   "cell_type": "code",
   "execution_count": 21,
   "metadata": {
    "collapsed": false
   },
   "outputs": [
    {
     "data": {
      "text/plain": [
       "array([[103,   4],\n",
       "       [ 11,  14]])"
      ]
     },
     "execution_count": 21,
     "metadata": {},
     "output_type": "execute_result"
    }
   ],
   "source": [
    "confusion_matrix(Y, binary_res_select)"
   ]
  },
  {
   "cell_type": "markdown",
   "metadata": {},
   "source": [
    "### Confusion Matrix\n",
    "|    |Predicted No|Predicted Yes|Sum|\n",
    "|:---:|:----------:|:----------:|:--:|\n",
    "|Actual No|103|4|107|\n",
    "|Actual Yes|11|14|25|\n",
    "|Sum|114|18|132|"
   ]
  },
  {
   "cell_type": "markdown",
   "metadata": {},
   "source": [
    "### Comparing with model in (a), this model predicts the data slightly better."
   ]
  },
  {
   "cell_type": "markdown",
   "metadata": {},
   "source": [
    "### (iii)\n",
    "### Plot the scatter graph for the results of two regressions"
   ]
  },
  {
   "cell_type": "code",
   "execution_count": 22,
   "metadata": {
    "collapsed": true
   },
   "outputs": [],
   "source": [
    "x = prob_res\n",
    "y = prob_res_select\n",
    "color = binary_res != binary_res_select"
   ]
  },
  {
   "cell_type": "code",
   "execution_count": 23,
   "metadata": {
    "collapsed": false
   },
   "outputs": [],
   "source": [
    "%matplotlib inline"
   ]
  },
  {
   "cell_type": "code",
   "execution_count": 24,
   "metadata": {
    "collapsed": false
   },
   "outputs": [
    {
     "data": {
      "text/plain": [
       "<matplotlib.text.Text at 0x22cd4b48b38>"
      ]
     },
     "execution_count": 24,
     "metadata": {},
     "output_type": "execute_result"
    },
    {
     "data": {
      "image/png": "[encoded data removed]",
      "text/plain": [
       "<matplotlib.figure.Figure at 0x22cd4b27630>"
      ]
     },
     "metadata": {},
     "output_type": "display_data"
    }
   ],
   "source": [
    "sns.set_style(\"white\")\n",
    "fig = plt.figure(figsize=(10, 6))\n",
    "ax = fig.add_subplot(111)\n",
    "diff = plt.scatter(x[binary_res != binary_res_select], y[binary_res != binary_res_select], marker='o', color='r')\n",
    "same = plt.scatter(x[binary_res == binary_res_select], y[binary_res == binary_res_select], marker='x', color='black')\n",
    "plt.legend((diff, same), ('different prediction', 'same prediction'), scatterpoints=1, loc='upper left', fontsize=16)\n",
    "ax.set_xlabel('probability by model in (a)')\n",
    "ax.set_ylabel('probability by model in (d)')"
   ]
  },
  {
   "cell_type": "markdown",
   "metadata": {},
   "source": [
    "### The graph shows the two points that have changed in the confusion matrix\n",
    "### Find out these two observations"
   ]
  },
  {
   "cell_type": "code",
   "execution_count": 25,
   "metadata": {
    "collapsed": false
   },
   "outputs": [
    {
     "data": {
      "text/html": [
       "<div>\n",
       "<table border=\"1\" class=\"dataframe\">\n",
       "  <thead>\n",
       "    <tr style=\"text-align: right;\">\n",
       "      <th></th>\n",
       "      <th>year</th>\n",
       "      <th>title</th>\n",
       "      <th>winner</th>\n",
       "      <th>oscar_nominations</th>\n",
       "      <th>Golden_Globes</th>\n",
       "      <th>comedy</th>\n",
       "    </tr>\n",
       "  </thead>\n",
       "  <tbody>\n",
       "    <tr>\n",
       "      <th>73</th>\n",
       "      <td>1998</td>\n",
       "      <td>Saving Private Ryan</td>\n",
       "      <td>0</td>\n",
       "      <td>11</td>\n",
       "      <td>2</td>\n",
       "      <td>0</td>\n",
       "    </tr>\n",
       "    <tr>\n",
       "      <th>87</th>\n",
       "      <td>2001</td>\n",
       "      <td>The Lord of the Rings: The Fellowship of the Ring</td>\n",
       "      <td>0</td>\n",
       "      <td>13</td>\n",
       "      <td>0</td>\n",
       "      <td>0</td>\n",
       "    </tr>\n",
       "  </tbody>\n",
       "</table>\n",
       "</div>"
      ],
      "text/plain": [
       "    year                                              title  winner  \\\n",
       "73  1998                                Saving Private Ryan       0   \n",
       "87  2001  The Lord of the Rings: The Fellowship of the Ring       0   \n",
       "\n",
       "    oscar_nominations  Golden_Globes  comedy  \n",
       "73                 11              2       0  \n",
       "87                 13              0       0  "
      ]
     },
     "execution_count": 25,
     "metadata": {},
     "output_type": "execute_result"
    }
   ],
   "source": [
    "df[binary_res != binary_res_select]"
   ]
  },
  {
   "cell_type": "code",
   "execution_count": 29,
   "metadata": {
    "collapsed": false
   },
   "outputs": [
    {
     "name": "stdout",
     "output_type": "stream",
     "text": [
      "the predictions by model(a) is [1 1]\n",
      "the predictions by model(d) is [0 0]\n"
     ]
    }
   ],
   "source": [
    "print('the predictions by model(a) is', binary_res[binary_res != binary_res_select])\n",
    "print('the predictions by model(d) is', binary_res_select[binary_res != binary_res_select])"
   ]
  },
  {
   "cell_type": "markdown",
   "metadata": {},
   "source": [
    "### It turns out the results by model (d) are correct."
   ]
  },
  {
   "cell_type": "markdown",
   "metadata": {},
   "source": [
    "---\n",
    "### (g)\n",
    "### (1) As collected from the internet, the data of these movies are as following"
   ]
  },
  {
   "cell_type": "code",
   "execution_count": 34,
   "metadata": {
    "collapsed": true
   },
   "outputs": [],
   "source": [
    "df_2 = pd.read_csv('Oscar2016.csv')"
   ]
  },
  {
   "cell_type": "code",
   "execution_count": 35,
   "metadata": {
    "collapsed": false
   },
   "outputs": [
    {
     "data": {
      "text/html": [
       "<div>\n",
       "<table border=\"1\" class=\"dataframe\">\n",
       "  <thead>\n",
       "    <tr style=\"text-align: right;\">\n",
       "      <th></th>\n",
       "      <th>title</th>\n",
       "      <th>winner</th>\n",
       "      <th>oscar_nominations</th>\n",
       "      <th>Golden_Globes</th>\n",
       "      <th>comedy</th>\n",
       "    </tr>\n",
       "  </thead>\n",
       "  <tbody>\n",
       "    <tr>\n",
       "      <th>0</th>\n",
       "      <td>The Big Short</td>\n",
       "      <td>0</td>\n",
       "      <td>5</td>\n",
       "      <td>4</td>\n",
       "      <td>1</td>\n",
       "    </tr>\n",
       "    <tr>\n",
       "      <th>1</th>\n",
       "      <td>Bridge of Spies</td>\n",
       "      <td>0</td>\n",
       "      <td>6</td>\n",
       "      <td>1</td>\n",
       "      <td>0</td>\n",
       "    </tr>\n",
       "    <tr>\n",
       "      <th>2</th>\n",
       "      <td>Brooklyn</td>\n",
       "      <td>0</td>\n",
       "      <td>3</td>\n",
       "      <td>1</td>\n",
       "      <td>0</td>\n",
       "    </tr>\n",
       "    <tr>\n",
       "      <th>3</th>\n",
       "      <td>Mad Max: Fury Road</td>\n",
       "      <td>0</td>\n",
       "      <td>10</td>\n",
       "      <td>2</td>\n",
       "      <td>0</td>\n",
       "    </tr>\n",
       "    <tr>\n",
       "      <th>4</th>\n",
       "      <td>The Martian</td>\n",
       "      <td>0</td>\n",
       "      <td>7</td>\n",
       "      <td>3</td>\n",
       "      <td>0</td>\n",
       "    </tr>\n",
       "    <tr>\n",
       "      <th>5</th>\n",
       "      <td>The Revenant</td>\n",
       "      <td>0</td>\n",
       "      <td>12</td>\n",
       "      <td>4</td>\n",
       "      <td>0</td>\n",
       "    </tr>\n",
       "    <tr>\n",
       "      <th>6</th>\n",
       "      <td>Room</td>\n",
       "      <td>0</td>\n",
       "      <td>4</td>\n",
       "      <td>3</td>\n",
       "      <td>0</td>\n",
       "    </tr>\n",
       "    <tr>\n",
       "      <th>7</th>\n",
       "      <td>Spotlight</td>\n",
       "      <td>1</td>\n",
       "      <td>6</td>\n",
       "      <td>3</td>\n",
       "      <td>0</td>\n",
       "    </tr>\n",
       "  </tbody>\n",
       "</table>\n",
       "</div>"
      ],
      "text/plain": [
       "                title  winner  oscar_nominations  Golden_Globes  comedy\n",
       "0       The Big Short       0                  5              4       1\n",
       "1     Bridge of Spies       0                  6              1       0\n",
       "2            Brooklyn       0                  3              1       0\n",
       "3  Mad Max: Fury Road       0                 10              2       0\n",
       "4         The Martian       0                  7              3       0\n",
       "5        The Revenant       0                 12              4       0\n",
       "6                Room       0                  4              3       0\n",
       "7           Spotlight       1                  6              3       0"
      ]
     },
     "execution_count": 35,
     "metadata": {},
     "output_type": "execute_result"
    }
   ],
   "source": [
    "df_2"
   ]
  },
  {
   "cell_type": "markdown",
   "metadata": {},
   "source": [
    "### (2)"
   ]
  },
  {
   "cell_type": "code",
   "execution_count": 36,
   "metadata": {
    "collapsed": true
   },
   "outputs": [],
   "source": [
    "test_x = df_2.ix[:,'oscar_nominations': 'comedy']"
   ]
  },
  {
   "cell_type": "code",
   "execution_count": 37,
   "metadata": {
    "collapsed": false
   },
   "outputs": [],
   "source": [
    "df_2['probability'] = res.predict(test_x)"
   ]
  },
  {
   "cell_type": "code",
   "execution_count": 40,
   "metadata": {
    "collapsed": false
   },
   "outputs": [
    {
     "data": {
      "text/html": [
       "<div>\n",
       "<table border=\"1\" class=\"dataframe\">\n",
       "  <thead>\n",
       "    <tr style=\"text-align: right;\">\n",
       "      <th></th>\n",
       "      <th>title</th>\n",
       "      <th>winner</th>\n",
       "      <th>oscar_nominations</th>\n",
       "      <th>Golden_Globes</th>\n",
       "      <th>comedy</th>\n",
       "      <th>probability</th>\n",
       "    </tr>\n",
       "  </thead>\n",
       "  <tbody>\n",
       "    <tr>\n",
       "      <th>5</th>\n",
       "      <td>The Revenant</td>\n",
       "      <td>0</td>\n",
       "      <td>12</td>\n",
       "      <td>4</td>\n",
       "      <td>0</td>\n",
       "      <td>0.833206</td>\n",
       "    </tr>\n",
       "    <tr>\n",
       "      <th>3</th>\n",
       "      <td>Mad Max: Fury Road</td>\n",
       "      <td>0</td>\n",
       "      <td>10</td>\n",
       "      <td>2</td>\n",
       "      <td>0</td>\n",
       "      <td>0.394406</td>\n",
       "    </tr>\n",
       "    <tr>\n",
       "      <th>4</th>\n",
       "      <td>The Martian</td>\n",
       "      <td>0</td>\n",
       "      <td>7</td>\n",
       "      <td>3</td>\n",
       "      <td>0</td>\n",
       "      <td>0.179579</td>\n",
       "    </tr>\n",
       "    <tr>\n",
       "      <th>7</th>\n",
       "      <td>Spotlight</td>\n",
       "      <td>1</td>\n",
       "      <td>6</td>\n",
       "      <td>3</td>\n",
       "      <td>0</td>\n",
       "      <td>0.114411</td>\n",
       "    </tr>\n",
       "    <tr>\n",
       "      <th>1</th>\n",
       "      <td>Bridge of Spies</td>\n",
       "      <td>0</td>\n",
       "      <td>6</td>\n",
       "      <td>1</td>\n",
       "      <td>0</td>\n",
       "      <td>0.046120</td>\n",
       "    </tr>\n",
       "    <tr>\n",
       "      <th>6</th>\n",
       "      <td>Room</td>\n",
       "      <td>0</td>\n",
       "      <td>4</td>\n",
       "      <td>3</td>\n",
       "      <td>0</td>\n",
       "      <td>0.043067</td>\n",
       "    </tr>\n",
       "    <tr>\n",
       "      <th>0</th>\n",
       "      <td>The Big Short</td>\n",
       "      <td>0</td>\n",
       "      <td>5</td>\n",
       "      <td>4</td>\n",
       "      <td>1</td>\n",
       "      <td>0.033056</td>\n",
       "    </tr>\n",
       "    <tr>\n",
       "      <th>2</th>\n",
       "      <td>Brooklyn</td>\n",
       "      <td>0</td>\n",
       "      <td>3</td>\n",
       "      <td>1</td>\n",
       "      <td>0</td>\n",
       "      <td>0.009843</td>\n",
       "    </tr>\n",
       "  </tbody>\n",
       "</table>\n",
       "</div>"
      ],
      "text/plain": [
       "                title  winner  oscar_nominations  Golden_Globes  comedy  \\\n",
       "5        The Revenant       0                 12              4       0   \n",
       "3  Mad Max: Fury Road       0                 10              2       0   \n",
       "4         The Martian       0                  7              3       0   \n",
       "7           Spotlight       1                  6              3       0   \n",
       "1     Bridge of Spies       0                  6              1       0   \n",
       "6                Room       0                  4              3       0   \n",
       "0       The Big Short       0                  5              4       1   \n",
       "2            Brooklyn       0                  3              1       0   \n",
       "\n",
       "   probability  \n",
       "5     0.833206  \n",
       "3     0.394406  \n",
       "4     0.179579  \n",
       "7     0.114411  \n",
       "1     0.046120  \n",
       "6     0.043067  \n",
       "0     0.033056  \n",
       "2     0.009843  "
      ]
     },
     "execution_count": 40,
     "metadata": {},
     "output_type": "execute_result"
    }
   ],
   "source": [
    "df_2.sort_values('probability', ascending=False)"
   ]
  },
  {
   "cell_type": "markdown",
   "metadata": {},
   "source": [
    "### Sort the data by `Probability`"
   ]
  },
  {
   "cell_type": "code",
   "execution_count": 41,
   "metadata": {
    "collapsed": false
   },
   "outputs": [
    {
     "data": {
      "text/html": [
       "<div>\n",
       "<table border=\"1\" class=\"dataframe\">\n",
       "  <thead>\n",
       "    <tr style=\"text-align: right;\">\n",
       "      <th></th>\n",
       "      <th>title</th>\n",
       "      <th>winner</th>\n",
       "      <th>oscar_nominations</th>\n",
       "      <th>Golden_Globes</th>\n",
       "      <th>comedy</th>\n",
       "      <th>probability</th>\n",
       "    </tr>\n",
       "  </thead>\n",
       "  <tbody>\n",
       "    <tr>\n",
       "      <th>5</th>\n",
       "      <td>The Revenant</td>\n",
       "      <td>0</td>\n",
       "      <td>12</td>\n",
       "      <td>4</td>\n",
       "      <td>0</td>\n",
       "      <td>0.833206</td>\n",
       "    </tr>\n",
       "    <tr>\n",
       "      <th>3</th>\n",
       "      <td>Mad Max: Fury Road</td>\n",
       "      <td>0</td>\n",
       "      <td>10</td>\n",
       "      <td>2</td>\n",
       "      <td>0</td>\n",
       "      <td>0.394406</td>\n",
       "    </tr>\n",
       "    <tr>\n",
       "      <th>4</th>\n",
       "      <td>The Martian</td>\n",
       "      <td>0</td>\n",
       "      <td>7</td>\n",
       "      <td>3</td>\n",
       "      <td>0</td>\n",
       "      <td>0.179579</td>\n",
       "    </tr>\n",
       "    <tr>\n",
       "      <th>7</th>\n",
       "      <td>Spotlight</td>\n",
       "      <td>1</td>\n",
       "      <td>6</td>\n",
       "      <td>3</td>\n",
       "      <td>0</td>\n",
       "      <td>0.114411</td>\n",
       "    </tr>\n",
       "    <tr>\n",
       "      <th>1</th>\n",
       "      <td>Bridge of Spies</td>\n",
       "      <td>0</td>\n",
       "      <td>6</td>\n",
       "      <td>1</td>\n",
       "      <td>0</td>\n",
       "      <td>0.046120</td>\n",
       "    </tr>\n",
       "    <tr>\n",
       "      <th>6</th>\n",
       "      <td>Room</td>\n",
       "      <td>0</td>\n",
       "      <td>4</td>\n",
       "      <td>3</td>\n",
       "      <td>0</td>\n",
       "      <td>0.043067</td>\n",
       "    </tr>\n",
       "    <tr>\n",
       "      <th>0</th>\n",
       "      <td>The Big Short</td>\n",
       "      <td>0</td>\n",
       "      <td>5</td>\n",
       "      <td>4</td>\n",
       "      <td>1</td>\n",
       "      <td>0.033056</td>\n",
       "    </tr>\n",
       "    <tr>\n",
       "      <th>2</th>\n",
       "      <td>Brooklyn</td>\n",
       "      <td>0</td>\n",
       "      <td>3</td>\n",
       "      <td>1</td>\n",
       "      <td>0</td>\n",
       "      <td>0.009843</td>\n",
       "    </tr>\n",
       "  </tbody>\n",
       "</table>\n",
       "</div>"
      ],
      "text/plain": [
       "                title  winner  oscar_nominations  Golden_Globes  comedy  \\\n",
       "5        The Revenant       0                 12              4       0   \n",
       "3  Mad Max: Fury Road       0                 10              2       0   \n",
       "4         The Martian       0                  7              3       0   \n",
       "7           Spotlight       1                  6              3       0   \n",
       "1     Bridge of Spies       0                  6              1       0   \n",
       "6                Room       0                  4              3       0   \n",
       "0       The Big Short       0                  5              4       1   \n",
       "2            Brooklyn       0                  3              1       0   \n",
       "\n",
       "   probability  \n",
       "5     0.833206  \n",
       "3     0.394406  \n",
       "4     0.179579  \n",
       "7     0.114411  \n",
       "1     0.046120  \n",
       "6     0.043067  \n",
       "0     0.033056  \n",
       "2     0.009843  "
      ]
     },
     "execution_count": 41,
     "metadata": {},
     "output_type": "execute_result"
    }
   ],
   "source": [
    "df_2.sort_values(by='probability', ascending=False)"
   ]
  },
  {
   "cell_type": "markdown",
   "metadata": {},
   "source": [
    "### According to the predict results, \"Spotlight\" is unexpected winner.\n",
    "### The movie with highest probability to win is \"The Revenant\""
   ]
  }
 ],
 "metadata": {
  "kernelspec": {
   "display_name": "Python 3",
   "language": "python",
   "name": "python3"
  },
  "language_info": {
   "codemirror_mode": {
    "name": "ipython",
    "version": 3
   },
   "file_extension": ".py",
   "mimetype": "text/x-python",
   "name": "python",
   "nbconvert_exporter": "python",
   "pygments_lexer": "ipython3",
   "version": "3.5.1"
  }
 },
 "nbformat": 4,
 "nbformat_minor": 0
}
