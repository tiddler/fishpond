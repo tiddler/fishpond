{
 "cells": [
  {
   "cell_type": "code",
   "execution_count": 2,
   "metadata": {
    "collapsed": true
   },
   "outputs": [],
   "source": [
    "import numpy as np"
   ]
  },
  {
   "cell_type": "code",
   "execution_count": 3,
   "metadata": {
    "collapsed": true
   },
   "outputs": [],
   "source": [
    "import matplotlib.pyplot as plt\n",
    "%matplotlib inline"
   ]
  },
  {
   "cell_type": "code",
   "execution_count": 4,
   "metadata": {
    "collapsed": true
   },
   "outputs": [],
   "source": [
    "import seaborn as sns"
   ]
  },
  {
   "cell_type": "markdown",
   "metadata": {},
   "source": [
    "## Generate Data\n",
    "100 points with two features x1, x2.\n",
    "\n",
    "y is a binary label -1, 1\n",
    "\n",
    "x0 is the bias term\n",
    "\n",
    "prediction = x1\\*w1 + x2\\*w2 + x3\\*w3"
   ]
  },
  {
   "cell_type": "code",
   "execution_count": 110,
   "metadata": {
    "collapsed": true
   },
   "outputs": [],
   "source": [
    "x0 = np.ones(100) \n",
    "x1 = np.random.normal(0, 1, 100)\n",
    "x2 = np.random.normal(0, 1, 100)"
   ]
  },
  {
   "cell_type": "code",
   "execution_count": 111,
   "metadata": {
    "collapsed": false
   },
   "outputs": [],
   "source": [
    "#y = np.random.randint(2, size=100) * 2 - 1"
   ]
  },
  {
   "cell_type": "code",
   "execution_count": 112,
   "metadata": {
    "collapsed": false
   },
   "outputs": [
    {
     "data": {
      "text/plain": [
       "0.04315057730734071"
      ]
     },
     "execution_count": 112,
     "metadata": {},
     "output_type": "execute_result"
    }
   ],
   "source": [
    "0.1 * np.random.random_sample()"
   ]
  },
  {
   "cell_type": "code",
   "execution_count": 113,
   "metadata": {
    "collapsed": false
   },
   "outputs": [],
   "source": [
    "y = np.array([1 if x else -1 for x in x1 < (x2 * 2 + 2 * np.random.random_sample() - 1)])"
   ]
  },
  {
   "cell_type": "code",
   "execution_count": 114,
   "metadata": {
    "collapsed": false
   },
   "outputs": [
    {
     "data": {
      "text/plain": [
       "array([-1,  1, -1, -1, -1,  1, -1, -1,  1,  1, -1, -1, -1, -1,  1, -1,  1,\n",
       "        1,  1,  1,  1, -1,  1,  1, -1, -1, -1, -1, -1,  1,  1,  1, -1, -1,\n",
       "        1,  1,  1, -1, -1, -1,  1, -1,  1, -1, -1,  1, -1, -1,  1,  1,  1,\n",
       "       -1,  1,  1,  1, -1,  1, -1, -1,  1,  1, -1, -1,  1, -1,  1,  1,  1,\n",
       "       -1,  1,  1,  1,  1,  1, -1, -1, -1, -1,  1, -1,  1, -1,  1, -1, -1,\n",
       "       -1,  1, -1,  1,  1, -1, -1,  1, -1,  1,  1, -1, -1, -1, -1])"
      ]
     },
     "execution_count": 114,
     "metadata": {},
     "output_type": "execute_result"
    }
   ],
   "source": [
    "y"
   ]
  },
  {
   "cell_type": "code",
   "execution_count": 115,
   "metadata": {
    "collapsed": false
   },
   "outputs": [
    {
     "data": {
      "text/plain": [
       "<matplotlib.collections.PathCollection at 0x1f989cc4898>"
      ]
     },
     "execution_count": 115,
     "metadata": {},
     "output_type": "execute_result"
    },
    {
     "data": {
      "image/png": "[encoded data removed]",
      "text/plain": [
       "<matplotlib.figure.Figure at 0x1f989c79a20>"
      ]
     },
     "metadata": {},
     "output_type": "display_data"
    }
   ],
   "source": [
    "plt.figure(figsize=(8, 8))\n",
    "plt.scatter(x1[y==1], x2[y==1], c='g')\n",
    "plt.scatter(x1[y==-1], x2[y==-1], c='r')"
   ]
  },
  {
   "cell_type": "code",
   "execution_count": 116,
   "metadata": {
    "collapsed": true
   },
   "outputs": [],
   "source": [
    "X = np.array([x0, x1, x2])"
   ]
  },
  {
   "cell_type": "code",
   "execution_count": 187,
   "metadata": {
    "collapsed": true
   },
   "outputs": [],
   "source": [
    "X = np.array([x1, x2])"
   ]
  },
  {
   "cell_type": "code",
   "execution_count": 188,
   "metadata": {
    "collapsed": false
   },
   "outputs": [],
   "source": [
    "X = X.T"
   ]
  },
  {
   "cell_type": "code",
   "execution_count": 363,
   "metadata": {
    "collapsed": true
   },
   "outputs": [],
   "source": [
    "vfunc = np.vectorize(lambda x: x+1)"
   ]
  },
  {
   "cell_type": "code",
   "execution_count": 364,
   "metadata": {
    "collapsed": false
   },
   "outputs": [
    {
     "data": {
      "text/plain": [
       "array([[3, 6],\n",
       "       [4, 5]])"
      ]
     },
     "execution_count": 364,
     "metadata": {},
     "output_type": "execute_result"
    }
   ],
   "source": [
    "vfunc(np.array([[2, 5], [3, 4]]))"
   ]
  },
  {
   "cell_type": "markdown",
   "metadata": {},
   "source": [
    "## Something about the function and derivative"
   ]
  },
  {
   "cell_type": "code",
   "execution_count": 470,
   "metadata": {
    "collapsed": true
   },
   "outputs": [],
   "source": [
    "def hinge_op(x):\n",
    "    return 0 if x > 1 else 1 - x\n",
    "\n",
    "def hinge(X, y, w):\n",
    "    return 1.0 / len(y) * sum(list(map(lambda x: hinge_op(x), y * np.dot(X, w))))\n",
    "\n",
    "def hinge_diff_op(t):\n",
    "    return 0 if t > 1 else -1\n",
    "\n",
    "def hinge_diff(X, y, w):\n",
    "    t_diff = np.array(list(map(lambda a: hinge_diff_op(a), y * np.dot(X, w))))\n",
    "    return 1.0 / len(y) * np.sum(np.apply_along_axis(lambda col: col * y * t_diff, 0, X), axis=0)\n",
    "\n",
    "def hinge_subdiff(X, y, w):\n",
    "    rule = 1 - y * np.dot(X, w) > 0\n",
    "    return -1.0 / len(y) * np.sum(X[rule] * np.array([y[rule]]).T, axis=0)\n",
    "\n",
    "def moreau_op(z, n):\n",
    "    if z > 1:\n",
    "        return 0\n",
    "    elif z >= 1 - n:\n",
    "        return 1.0 / (2 * n) * (1 - z) ** 2\n",
    "    else:\n",
    "        return -n / 2 + 1 - z\n",
    "\n",
    "def moreau(X, y, w, n):\n",
    "    return 1.0 / len(y) * sum(list(map(lambda x : moreau_op(x, n), y * np.dot(X, w))))\n",
    "    \n",
    "def moreau_diff_op(z, n):\n",
    "    if z > 1:\n",
    "        return 0\n",
    "    elif z >= 1 - n:\n",
    "        return (z - 1.0) / n\n",
    "    else:\n",
    "        return -1\n",
    "    \n",
    "def moreau_diff(X, y, w, n):\n",
    "    t_diff = np.array(list(map(lambda a: moreau_diff_op(a, n), y * np.dot(X, w))))\n",
    "    return 1.0 / len(y) * np.sum(np.apply_along_axis(lambda col: col * y * t_diff, 0, X), axis=0)\n",
    "    \n",
    "def l2_norm(w, lam):\n",
    "    return lam * (np.linalg.norm(w, 2) ** 2)\n",
    "\n",
    "def l2_diff(w, lam):\n",
    "    return 2 * lam * w\n",
    "\n",
    "def l2_norm_prox(z, lam, nt):\n",
    "    return z / (1 + 2 * lam * nt)\n",
    "\n",
    "def svm_l2(X, y, w, lam):\n",
    "    return hinge(X, y, w) + l2_norm(w, lam)\n",
    "\n",
    "def svm_l2_subgradient(X, y, w, lam):\n",
    "    return hinge_subdiff(X, y, w) + l2_diff(w, lam)\n",
    "\n",
    "def svm_moreau_l2(X, y, w, n, lam):\n",
    "    return moreau(X, y, w, n) + l2_norm(w, lam)\n",
    "#def svm_dual(X, y, w,):"
   ]
  },
  {
   "cell_type": "markdown",
   "metadata": {},
   "source": [
    "## Subgradient Algorithm"
   ]
  },
  {
   "cell_type": "code",
   "execution_count": 314,
   "metadata": {
    "collapsed": true
   },
   "outputs": [],
   "source": [
    "def subgradient(X, y, w, lam, iter_num):\n",
    "    result = []\n",
    "    for t in range(1, iter_num): \n",
    "        # choose dt\n",
    "        dt = hinge_subdiff(X, y, w)\n",
    "        \n",
    "        # normalize\n",
    "        dt = dt / np.linalg.norm(dt, 2)\n",
    "\n",
    "        # choose step size\n",
    "        nt = 0.2 / t\n",
    "        w = l2_norm_prox(w - nt * dt, lam, nt)\n",
    "        \n",
    "        # record function value\n",
    "        result.append(svm_l2(X, y, w, lam))\n",
    "    return w, result"
   ]
  },
  {
   "cell_type": "code",
   "execution_count": 603,
   "metadata": {
    "collapsed": false
   },
   "outputs": [],
   "source": [
    "iter_num = 10000\n",
    "lam = 0.1\n",
    "weight1, result1 = subgradient(X, y, np.ones(2), lam, iter_num)"
   ]
  },
  {
   "cell_type": "code",
   "execution_count": 604,
   "metadata": {
    "collapsed": false
   },
   "outputs": [
    {
     "data": {
      "text/plain": [
       "[<matplotlib.lines.Line2D at 0x1f999db6ef0>]"
      ]
     },
     "execution_count": 604,
     "metadata": {},
     "output_type": "execute_result"
    },
    {
     "data": {
      "image/png": "[encoded data removed]",
      "text/plain": [
       "<matplotlib.figure.Figure at 0x1f999eabcc0>"
      ]
     },
     "metadata": {},
     "output_type": "display_data"
    }
   ],
   "source": [
    "plt.plot(result1)"
   ]
  },
  {
   "cell_type": "code",
   "execution_count": 345,
   "metadata": {
    "collapsed": false
   },
   "outputs": [
    {
     "name": "stdout",
     "output_type": "stream",
     "text": [
      "[-0.68475857  1.53606085]\n",
      "[-0.71459868  1.44025763]\n"
     ]
    }
   ],
   "source": [
    "print(weight1)"
   ]
  },
  {
   "cell_type": "code",
   "execution_count": 331,
   "metadata": {
    "collapsed": false
   },
   "outputs": [
    {
     "data": {
      "text/plain": [
       "[<matplotlib.lines.Line2D at 0x1f995ca39e8>]"
      ]
     },
     "execution_count": 331,
     "metadata": {},
     "output_type": "execute_result"
    },
    {
     "data": {
      "image/png": "[encoded data removed]",
      "text/plain": [
       "<matplotlib.figure.Figure at 0x1f994ba5438>"
      ]
     },
     "metadata": {},
     "output_type": "display_data"
    }
   ],
   "source": [
    "w = weight1\n",
    "plt.figure(figsize=(8, 8))\n",
    "plt.scatter(x1[y==1], x2[y==1], c='g')\n",
    "plt.scatter(x1[y==-1], x2[y==-1], c='r')\n",
    "a = -w[0] / w[1]\n",
    "xx = np.linspace(-3, 3)\n",
    "yy = a * xx\n",
    "plt.plot(xx, yy, 'k-')"
   ]
  },
  {
   "cell_type": "markdown",
   "metadata": {},
   "source": [
    "## Nesterov's dual averaging algorithm"
   ]
  },
  {
   "cell_type": "code",
   "execution_count": 246,
   "metadata": {
    "collapsed": false
   },
   "outputs": [],
   "source": [
    "def Nesterov(X, y, w, lam, gamma, iter_num):\n",
    "    result = []\n",
    "    st = np.zeros(w.shape[0])\n",
    "    beta = 1\n",
    "    for t in range(0, iter_num):\n",
    "        # choose an arbitrary subgradient\n",
    "        dt = svm_l2_subgradient(X, y, w, lam)\n",
    "        st = st + dt\n",
    "        w = -st / (2 * gamma * beta)\n",
    "        beta = beta + 1.0 / beta\n",
    "        result.append(svm_l2(X, y, w, lam))\n",
    "    return w, result"
   ]
  },
  {
   "cell_type": "code",
   "execution_count": 338,
   "metadata": {
    "collapsed": false
   },
   "outputs": [],
   "source": [
    "iter_num = 1000\n",
    "lam = 0.1\n",
    "gamma = 0.1\n",
    "weight1, result1 = Nesterov(X, y, np.ones(2), lam, gamma, iter_num)"
   ]
  },
  {
   "cell_type": "code",
   "execution_count": 341,
   "metadata": {
    "collapsed": false
   },
   "outputs": [
    {
     "name": "stdout",
     "output_type": "stream",
     "text": [
      "[-0.47660549  1.06399745]\n",
      "[-0.47660549  1.06399745]\n"
     ]
    }
   ],
   "source": [
    "print(weight1)"
   ]
  },
  {
   "cell_type": "code",
   "execution_count": 342,
   "metadata": {
    "collapsed": false
   },
   "outputs": [
    {
     "data": {
      "text/plain": [
       "[<matplotlib.lines.Line2D at 0x1f996085438>]"
      ]
     },
     "execution_count": 342,
     "metadata": {},
     "output_type": "execute_result"
    },
    {
     "data": {
      "image/png": "[encoded data removed]",
      "text/plain": [
       "<matplotlib.figure.Figure at 0x1f996085f28>"
      ]
     },
     "metadata": {},
     "output_type": "display_data"
    }
   ],
   "source": [
    "plt.plot(result1)"
   ]
  },
  {
   "cell_type": "code",
   "execution_count": 327,
   "metadata": {
    "collapsed": false
   },
   "outputs": [
    {
     "data": {
      "text/plain": [
       "[<matplotlib.lines.Line2D at 0x1f994bda978>]"
      ]
     },
     "execution_count": 327,
     "metadata": {},
     "output_type": "execute_result"
    },
    {
     "data": {
      "image/png": "[encoded data removed]",
      "text/plain": [
       "<matplotlib.figure.Figure at 0x1f994a7d668>"
      ]
     },
     "metadata": {},
     "output_type": "display_data"
    }
   ],
   "source": [
    "w = weight1\n",
    "plt.figure(figsize=(8, 8))\n",
    "plt.scatter(x1[y==1], x2[y==1], c='g')\n",
    "plt.scatter(x1[y==-1], x2[y==-1], c='r')\n",
    "a = -w[0] / w[1]\n",
    "xx = np.linspace(-3, 3)\n",
    "yy = a * xx\n",
    "plt.plot(xx, yy, 'k-')"
   ]
  },
  {
   "cell_type": "markdown",
   "metadata": {},
   "source": [
    "## SVM Dual problem"
   ]
  },
  {
   "cell_type": "code",
   "execution_count": 503,
   "metadata": {
    "collapsed": true
   },
   "outputs": [],
   "source": [
    "def SVM_dual(X, y, a, lam):\n",
    "    two_sum = 0\n",
    "    for i in range(0, len(y)):\n",
    "        for j in range(0, len(y)):\n",
    "            two_sum += a[i] * a[j] * y[i] * y[j] * np.dot(X[i], X[j])\n",
    "    return -sum(a) + 1.0/(4 * lam) * two_sum\n",
    "\n",
    "def SVM_dual_diff(X, y, a, i, lam):\n",
    "    sum_result = 0\n",
    "    for j in range(0, len(y)):\n",
    "        sum_result += 1/(2 * lam) * y[i] * np.dot(X[i], a[j] * y[j] * X[j])\n",
    "    return -1 + sum_result"
   ]
  },
  {
   "cell_type": "code",
   "execution_count": 543,
   "metadata": {
    "collapsed": true
   },
   "outputs": [],
   "source": [
    "def dual_proximal(X, y, a, n, lam, iter_num):\n",
    "    result = []\n",
    "    for t in range(0, iter_num):\n",
    "        l_diff = np.array([SVM_dual_diff(X, y, a, i, lam) for i in range(0, len(y))])\n",
    "        z = a - n * l_diff\n",
    "        a_pre = a\n",
    "        # proximal mapping becomes identity mapping\n",
    "        a = z\n",
    "        \n",
    "        # backtracking the step size\n",
    "        while (SVM_dual(X, y, a, lam) > SVM_dual(X, y, a_pre, lam) + np.dot(a - a_pre, l_diff) + \n",
    "               1.0 / (2 * n) * (np.linalg.norm(a - a_pre, 2) ** 2)):\n",
    "            n = n / 2\n",
    "            w = z\n",
    "        result.append(SVM_dual(X, y, a, lam))\n",
    "    return a, result"
   ]
  },
  {
   "cell_type": "code",
   "execution_count": 544,
   "metadata": {
    "collapsed": false
   },
   "outputs": [],
   "source": [
    "iter_num = 200\n",
    "n = 1e-4\n",
    "lam = 0.1\n",
    "weight1, result1 = dual_proximal(X, y, np.ones(len(y)), n, lam, iter_num)"
   ]
  },
  {
   "cell_type": "code",
   "execution_count": 545,
   "metadata": {
    "collapsed": false
   },
   "outputs": [
    {
     "data": {
      "text/plain": [
       "[<matplotlib.lines.Line2D at 0x1f9989bbba8>]"
      ]
     },
     "execution_count": 545,
     "metadata": {},
     "output_type": "execute_result"
    },
    {
     "data": {
      "image/png": "[encoded data removed]",
      "text/plain": [
       "<matplotlib.figure.Figure at 0x1f997683860>"
      ]
     },
     "metadata": {},
     "output_type": "display_data"
    }
   ],
   "source": [
    "plt.plot(result1)"
   ]
  },
  {
   "cell_type": "markdown",
   "metadata": {},
   "source": [
    "## Accerated dual proximal"
   ]
  },
  {
   "cell_type": "code",
   "execution_count": 548,
   "metadata": {
    "collapsed": true
   },
   "outputs": [],
   "source": [
    "import math\n",
    "def dual_acceleratedProximal(X, y, a, n, lam, iter_num):\n",
    "    result = []\n",
    "    u = a\n",
    "    gamma = 1\n",
    "    for t in range(1, iter_num):\n",
    "        l_diff = np.array([SVM_dual_diff(X, y, u, i, lam) for i in range(0, len(y))])\n",
    "        z = u - n * l_diff\n",
    "        a_pre = a\n",
    "        a = z\n",
    "        \n",
    "        # backtracking the step size\n",
    "        while (SVM_dual(X, y, a, lam) > SVM_dual(X, y, u, lam) + np.dot(a - u, l_diff) + \n",
    "               1.0 / (2 * n) * (np.linalg.norm(a - u, 2) ** 2)):\n",
    "            n = n / 2\n",
    "            a = u - n * l_diff\n",
    "        \n",
    "        # enforcing descending\n",
    "        if SVM_dual(X, y, a, lam) > SVM_dual(X, y, a_pre, lam):\n",
    "            a = a_pre\n",
    "            \n",
    "        gamma_pre = gamma\n",
    "        gamma = (1 + math.sqrt(1 + 4 * gamma ** 2)) / 2\n",
    "        \n",
    "        # extrapolation\n",
    "        u = a + (gamma_pre - 1) / gamma * (a - a_pre)\n",
    "        \n",
    "        result.append(SVM_dual(X, y, a, lam))\n",
    "    return a, result"
   ]
  },
  {
   "cell_type": "code",
   "execution_count": 546,
   "metadata": {
    "collapsed": false
   },
   "outputs": [],
   "source": [
    "iter_num = 200\n",
    "n = 1e-4\n",
    "lam = 0.1\n",
    "weight1, result1 = dual_acceleratedProximal(X, y, np.ones(len(y)), n, lam, iter_num)"
   ]
  },
  {
   "cell_type": "code",
   "execution_count": 547,
   "metadata": {
    "collapsed": false
   },
   "outputs": [
    {
     "data": {
      "text/plain": [
       "[<matplotlib.lines.Line2D at 0x1f998a82d68>]"
      ]
     },
     "execution_count": 547,
     "metadata": {},
     "output_type": "execute_result"
    },
    {
     "data": {
      "image/png": "[encoded data removed]",
      "text/plain": [
       "<matplotlib.figure.Figure at 0x1f9989da160>"
      ]
     },
     "metadata": {},
     "output_type": "display_data"
    }
   ],
   "source": [
    "plt.plot(result1)"
   ]
  },
  {
   "cell_type": "markdown",
   "metadata": {},
   "source": [
    "## Proximal Gradient"
   ]
  },
  {
   "cell_type": "code",
   "execution_count": 471,
   "metadata": {
    "collapsed": true
   },
   "outputs": [],
   "source": [
    "def proximal(X, y, w, n, lam, iter_num):\n",
    "    result = []\n",
    "    for t in range(0, iter_num):\n",
    "        l_diff = moreau_diff(X, y, w, n)\n",
    "        z = w - n * l_diff\n",
    "        w_pre = w\n",
    "        w = l2_norm_prox(z, lam, n)\n",
    "        \n",
    "        # backtracking the step size\n",
    "        while (moreau(X, y, w, n) > moreau(X, y, w_pre, n) + np.dot(w - w_pre, l_diff) + \n",
    "               1.0 / (2 * n) * (np.linalg.norm(w - w_pre, 2) ** 2)):\n",
    "            n = n / 2\n",
    "            w = l2_norm_prox(z, lam, n)\n",
    "        result.append(svm_moreau_l2(X, y, w, n, lam))\n",
    "    return w, result"
   ]
  },
  {
   "cell_type": "code",
   "execution_count": 480,
   "metadata": {
    "collapsed": false
   },
   "outputs": [],
   "source": [
    "iter_num = 60000\n",
    "n = 1e-4\n",
    "lam = 0.1\n",
    "weight1, result1 = proximal(X, y, np.ones(2), n, lam, iter_num)"
   ]
  },
  {
   "cell_type": "code",
   "execution_count": 481,
   "metadata": {
    "collapsed": false
   },
   "outputs": [
    {
     "name": "stdout",
     "output_type": "stream",
     "text": [
      "[-0.45731268  1.07945508]\n"
     ]
    }
   ],
   "source": [
    "print(weight1)"
   ]
  },
  {
   "cell_type": "code",
   "execution_count": 482,
   "metadata": {
    "collapsed": false
   },
   "outputs": [
    {
     "data": {
      "text/plain": [
       "[<matplotlib.lines.Line2D at 0x1f995efe5c0>]"
      ]
     },
     "execution_count": 482,
     "metadata": {},
     "output_type": "execute_result"
    },
    {
     "data": {
      "image/png": "[encoded data removed]",
      "text/plain": [
       "<matplotlib.figure.Figure at 0x1f9973bb3c8>"
      ]
     },
     "metadata": {},
     "output_type": "display_data"
    }
   ],
   "source": [
    "plt.plot(result1)"
   ]
  },
  {
   "cell_type": "code",
   "execution_count": 479,
   "metadata": {
    "collapsed": false
   },
   "outputs": [
    {
     "data": {
      "text/plain": [
       "[<matplotlib.lines.Line2D at 0x1f9988f6dd8>]"
      ]
     },
     "execution_count": 479,
     "metadata": {},
     "output_type": "execute_result"
    },
    {
     "data": {
      "image/png": "[encoded data removed]",
      "text/plain": [
       "<matplotlib.figure.Figure at 0x1f9974469b0>"
      ]
     },
     "metadata": {},
     "output_type": "display_data"
    }
   ],
   "source": [
    "w = weight1\n",
    "plt.figure(figsize=(8, 8))\n",
    "plt.scatter(x1[y==1], x2[y==1], c='g')\n",
    "plt.scatter(x1[y==-1], x2[y==-1], c='r')\n",
    "a = -w[0] / w[1]\n",
    "xx = np.linspace(-3, 3)\n",
    "yy = a * xx\n",
    "plt.plot(xx, yy, 'k-')"
   ]
  },
  {
   "cell_type": "markdown",
   "metadata": {},
   "source": [
    "## Accelerated Proximal gradient. FISTA"
   ]
  },
  {
   "cell_type": "code",
   "execution_count": 570,
   "metadata": {
    "collapsed": true
   },
   "outputs": [],
   "source": [
    "import math\n",
    "def acceleratedProximal(X, y, w, n, lam, iter_num):\n",
    "    result = []\n",
    "    u = w\n",
    "    gamma = 1\n",
    "    for t in range(1, iter_num):\n",
    "        l_diff = moreau_diff(X, y, u, n)\n",
    "        z = u - n * l_diff\n",
    "        w_pre = w\n",
    "        w = l2_norm_prox(z, lam, n)\n",
    "        \n",
    "        # backtracking the step size\n",
    "        while (moreau(X, y, w, n) > moreau(X, y, u, n) + np.dot(w - u, l_diff) + \n",
    "               1.0 / (2 * n) * (np.linalg.norm(w - u, 2) ** 2)):\n",
    "            n = n / 2\n",
    "            w = l2_norm_prox(u - n * l_diff, lam, n)\n",
    "        \n",
    "        # enforcing descending\n",
    "        if svm_moreau_l2(X, y, w, n, lam) > svm_moreau_l2(X, y, w_pre, n, lam):\n",
    "            w = w_pre\n",
    "            \n",
    "        gamma_pre = gamma\n",
    "        gamma = (1 + math.sqrt(1 + 4 * gamma ** 2)) / 2\n",
    "        \n",
    "        # extrapolation\n",
    "        u = w + (gamma_pre - 1) / gamma * (w - w_pre)\n",
    "        \n",
    "        result.append(svm_moreau_l2(X, y, w, n, lam))\n",
    "    return w, result"
   ]
  },
  {
   "cell_type": "code",
   "execution_count": 492,
   "metadata": {
    "collapsed": false
   },
   "outputs": [],
   "source": [
    "iter_num = 2000\n",
    "n = 1e-4\n",
    "lam = 0.1\n",
    "weight1, result1 = acceleratedProximal(X, y, np.ones(2), n, lam, iter_num)"
   ]
  },
  {
   "cell_type": "code",
   "execution_count": 493,
   "metadata": {
    "collapsed": false
   },
   "outputs": [
    {
     "name": "stdout",
     "output_type": "stream",
     "text": [
      "[-0.4809002   1.08785862]\n"
     ]
    }
   ],
   "source": [
    "print(weight1)"
   ]
  },
  {
   "cell_type": "code",
   "execution_count": 494,
   "metadata": {
    "collapsed": false
   },
   "outputs": [
    {
     "data": {
      "text/plain": [
       "[<matplotlib.lines.Line2D at 0x1f99759ac50>]"
      ]
     },
     "execution_count": 494,
     "metadata": {},
     "output_type": "execute_result"
    },
    {
     "data": {
      "image/png": "[encoded data removed]",
      "text/plain": [
       "<matplotlib.figure.Figure at 0x1f996140978>"
      ]
     },
     "metadata": {},
     "output_type": "display_data"
    }
   ],
   "source": [
    "plt.plot(result1)"
   ]
  },
  {
   "cell_type": "code",
   "execution_count": 495,
   "metadata": {
    "collapsed": false
   },
   "outputs": [
    {
     "data": {
      "text/plain": [
       "[<matplotlib.lines.Line2D at 0x1f9975cff60>]"
      ]
     },
     "execution_count": 495,
     "metadata": {},
     "output_type": "execute_result"
    },
    {
     "data": {
      "image/png": "[encoded data removed]",
      "text/plain": [
       "<matplotlib.figure.Figure at 0x1f998af72e8>"
      ]
     },
     "metadata": {},
     "output_type": "display_data"
    }
   ],
   "source": [
    "w = weight1\n",
    "plt.figure(figsize=(8, 8))\n",
    "plt.scatter(x1[y==1], x2[y==1], c='g')\n",
    "plt.scatter(x1[y==-1], x2[y==-1], c='r')\n",
    "a = -w[0] / w[1]\n",
    "xx = np.linspace(-3, 3)\n",
    "yy = a * xx\n",
    "plt.plot(xx, yy, 'k-')"
   ]
  },
  {
   "cell_type": "markdown",
   "metadata": {},
   "source": [
    "## Here we try LARGE problem with 100 dimentions, 1000 points"
   ]
  },
  {
   "cell_type": "code",
   "execution_count": 556,
   "metadata": {
    "collapsed": false
   },
   "outputs": [],
   "source": [
    "LARGE_X = np.random.normal(0, 1, (1000, 100))"
   ]
  },
  {
   "cell_type": "code",
   "execution_count": 558,
   "metadata": {
    "collapsed": false
   },
   "outputs": [
    {
     "data": {
      "text/plain": [
       "(1000, 100)"
      ]
     },
     "execution_count": 558,
     "metadata": {},
     "output_type": "execute_result"
    }
   ],
   "source": [
    "LARGE_X.shape"
   ]
  },
  {
   "cell_type": "code",
   "execution_count": 559,
   "metadata": {
    "collapsed": true
   },
   "outputs": [],
   "source": [
    "LARGE_y = np.random.randint(2, size=1000) * 2 - 1"
   ]
  },
  {
   "cell_type": "code",
   "execution_count": 561,
   "metadata": {
    "collapsed": false
   },
   "outputs": [
    {
     "data": {
      "text/plain": [
       "(1000,)"
      ]
     },
     "execution_count": 561,
     "metadata": {},
     "output_type": "execute_result"
    }
   ],
   "source": [
    "LARGE_y.shape"
   ]
  },
  {
   "cell_type": "code",
   "execution_count": 565,
   "metadata": {
    "collapsed": false
   },
   "outputs": [
    {
     "name": "stdout",
     "output_type": "stream",
     "text": [
      "16.440515995025635\n",
      "18.544925928115845\n"
     ]
    }
   ],
   "source": [
    "import time\n",
    "\n",
    "iter_num = 10000\n",
    "lam = 0.1\n",
    "\n",
    "start_time = time.time()\n",
    "weight1, result1 = subgradient(LARGE_X, LARGE_y, np.ones(100), lam, iter_num)\n",
    "print(time.time() - start_time)\n",
    "\n",
    "start_time = time.time()\n",
    "gamma = 0.1\n",
    "weight2, result2 = Nesterov(LARGE_X, LARGE_y, np.ones(100), lam, gamma, iter_num)\n",
    "print(time.time() - start_time)"
   ]
  },
  {
   "cell_type": "code",
   "execution_count": 566,
   "metadata": {
    "collapsed": false
   },
   "outputs": [
    {
     "data": {
      "text/plain": [
       "[<matplotlib.lines.Line2D at 0x1f998a9ff98>]"
      ]
     },
     "execution_count": 566,
     "metadata": {},
     "output_type": "execute_result"
    },
    {
     "data": {
      "image/png": "[encoded data removed]",
      "text/plain": [
       "<matplotlib.figure.Figure at 0x1f998a9f198>"
      ]
     },
     "metadata": {},
     "output_type": "display_data"
    }
   ],
   "source": [
    "plt.plot(result1)\n",
    "plt.plot(result2)"
   ]
  },
  {
   "cell_type": "code",
   "execution_count": 573,
   "metadata": {
    "collapsed": false
   },
   "outputs": [
    {
     "name": "stdout",
     "output_type": "stream",
     "text": [
      "9.541446685791016\n",
      "13.747972011566162\n"
     ]
    }
   ],
   "source": [
    "import time\n",
    "\n",
    "iter_num = 1000\n",
    "n = 1e-4\n",
    "lam = 0.1\n",
    "\n",
    "start_time = time.time()\n",
    "weight3, result3 = proximal(LARGE_X, LARGE_y, np.ones(100), n, lam, iter_num)\n",
    "print(time.time() - start_time)\n",
    "\n",
    "start_time = time.time()\n",
    "weight4, result4 = acceleratedProximal(LARGE_X, LARGE_y, np.ones(100), n, lam, iter_num)\n",
    "print(time.time() - start_time)"
   ]
  },
  {
   "cell_type": "code",
   "execution_count": 574,
   "metadata": {
    "collapsed": false
   },
   "outputs": [
    {
     "data": {
      "text/plain": [
       "[<matplotlib.lines.Line2D at 0x1f999ca4198>]"
      ]
     },
     "execution_count": 574,
     "metadata": {},
     "output_type": "execute_result"
    },
    {
     "data": {
      "image/png": "[encoded data removed]",
      "text/plain": [
       "<matplotlib.figure.Figure at 0x1f999ca4160>"
      ]
     },
     "metadata": {},
     "output_type": "display_data"
    }
   ],
   "source": [
    "plt.plot(result3)\n",
    "plt.plot(result4)"
   ]
  },
  {
   "cell_type": "markdown",
   "metadata": {},
   "source": [
    "## SVM with l1 norm"
   ]
  },
  {
   "cell_type": "code",
   "execution_count": 587,
   "metadata": {
    "collapsed": false
   },
   "outputs": [],
   "source": [
    "def huber_op(z, n):\n",
    "    if z > n:\n",
    "        return z - n / 2\n",
    "    elif z >= - n:\n",
    "        return 1.0 / (2 * n) * z ** 2\n",
    "    else:\n",
    "        return -n / 2 - z\n",
    "\n",
    "def huber(w, n):\n",
    "    return lam * sum(list(map(lambda x : huber_op(x, n), w)))\n",
    "    \n",
    "def huber_diff_op(z, n):\n",
    "    if z > n:\n",
    "        return 1\n",
    "    elif z >= - n:\n",
    "        return z / n\n",
    "    else:\n",
    "        return -1\n",
    "    \n",
    "def huber_diff(w, n):\n",
    "    return lam * np.array(list(map(lambda a: huber_diff_op(a, n), w)))\n",
    "\n",
    "def SVM_smooth(X, y, w, n, lam):\n",
    "    return moreau(X, y, w, n) + huber(w, lam)\n",
    "\n",
    "def SVM_smooth_diff(X, y, w, n, lam):\n",
    "    return moreau_diff(X, y, w, n) + huber_diff(w, lam)"
   ]
  },
  {
   "cell_type": "code",
   "execution_count": 591,
   "metadata": {
    "collapsed": true
   },
   "outputs": [],
   "source": [
    "def sparse_subgradient(X, y, w, n, lam, iter_num):\n",
    "    result = []\n",
    "    for t in range(1, iter_num): \n",
    "        # choose dt\n",
    "        dt = SVM_smooth_diff(X, y, w, n, lam)\n",
    "        \n",
    "        # normalize\n",
    "        dt = dt / np.linalg.norm(dt, 2)\n",
    "\n",
    "        # choose step size\n",
    "        nt = 0.2 / t\n",
    "        w = w - nt * dt\n",
    "        \n",
    "        # record function value\n",
    "        result.append(SVM_smooth(X, y, w, n, lam))\n",
    "    return w, result"
   ]
  },
  {
   "cell_type": "code",
   "execution_count": 592,
   "metadata": {
    "collapsed": false
   },
   "outputs": [],
   "source": [
    "iter_num = 10000\n",
    "lam = 0.1\n",
    "n = 0.1\n",
    "weight1, result1 = sparse_subgradient(X, y, np.ones(2), n, lam, iter_num)"
   ]
  },
  {
   "cell_type": "code",
   "execution_count": 593,
   "metadata": {
    "collapsed": false
   },
   "outputs": [
    {
     "data": {
      "text/plain": [
       "[<matplotlib.lines.Line2D at 0x1f999aff710>]"
      ]
     },
     "execution_count": 593,
     "metadata": {},
     "output_type": "execute_result"
    },
    {
     "data": {
      "image/png": "[encoded data removed]",
      "text/plain": [
       "<matplotlib.figure.Figure at 0x1f999c03470>"
      ]
     },
     "metadata": {},
     "output_type": "display_data"
    }
   ],
   "source": [
    "plt.plot(result1)"
   ]
  },
  {
   "cell_type": "code",
   "execution_count": 594,
   "metadata": {
    "collapsed": false
   },
   "outputs": [
    {
     "data": {
      "text/plain": [
       "[<matplotlib.lines.Line2D at 0x1f999ce0ef0>]"
      ]
     },
     "execution_count": 594,
     "metadata": {},
     "output_type": "execute_result"
    },
    {
     "data": {
      "image/png": "[encoded data removed]",
      "text/plain": [
       "<matplotlib.figure.Figure at 0x1f999b97ac8>"
      ]
     },
     "metadata": {},
     "output_type": "display_data"
    }
   ],
   "source": [
    "w = weight1\n",
    "plt.figure(figsize=(8, 8))\n",
    "plt.scatter(x1[y==1], x2[y==1], c='g')\n",
    "plt.scatter(x1[y==-1], x2[y==-1], c='r')\n",
    "a = -w[0] / w[1]\n",
    "xx = np.linspace(-3, 3)\n",
    "yy = a * xx\n",
    "plt.plot(xx, yy, 'k-')"
   ]
  },
  {
   "cell_type": "code",
   "execution_count": 595,
   "metadata": {
    "collapsed": true
   },
   "outputs": [],
   "source": [
    "def sparse_proximal(X, y, w, n, lam, iter_num):\n",
    "    result = []\n",
    "    for t in range(0, iter_num):\n",
    "        l_diff = SVM_smooth_diff(X, y, w, n, lam)\n",
    "        z = w - n * l_diff\n",
    "        w_pre = w\n",
    "        w = z\n",
    "        \n",
    "        # backtracking the step size\n",
    "        while (SVM_smooth(X, y, w, n, lam) > SVM_smooth(X, y, w_pre, n, lam) + np.dot(w - w_pre, l_diff) + \n",
    "               1.0 / (2 * n) * (np.linalg.norm(w - w_pre, 2) ** 2)):\n",
    "            n = n / 2\n",
    "            w = z\n",
    "        result.append(SVM_smooth(X, y, w, n, lam))\n",
    "    return w, result"
   ]
  },
  {
   "cell_type": "code",
   "execution_count": 596,
   "metadata": {
    "collapsed": true
   },
   "outputs": [],
   "source": [
    "iter_num = 60000\n",
    "n = 1e-4\n",
    "lam = 0.1\n",
    "weight1, result1 = sparse_proximal(X, y, np.ones(2), n, lam, iter_num)"
   ]
  },
  {
   "cell_type": "code",
   "execution_count": 597,
   "metadata": {
    "collapsed": false
   },
   "outputs": [
    {
     "data": {
      "text/plain": [
       "[<matplotlib.lines.Line2D at 0x1f999b855c0>]"
      ]
     },
     "execution_count": 597,
     "metadata": {},
     "output_type": "execute_result"
    },
    {
     "data": {
      "image/png": "[encoded data removed]",
      "text/plain": [
       "<matplotlib.figure.Figure at 0x1f999c4fcc0>"
      ]
     },
     "metadata": {},
     "output_type": "display_data"
    }
   ],
   "source": [
    "plt.plot(result1)"
   ]
  },
  {
   "cell_type": "code",
   "execution_count": 598,
   "metadata": {
    "collapsed": false
   },
   "outputs": [
    {
     "data": {
      "text/plain": [
       "[<matplotlib.lines.Line2D at 0x1f999f039b0>]"
      ]
     },
     "execution_count": 598,
     "metadata": {},
     "output_type": "execute_result"
    },
    {
     "data": {
      "image/png": "[encoded data removed]",
      "text/plain": [
       "<matplotlib.figure.Figure at 0x1f999c05438>"
      ]
     },
     "metadata": {},
     "output_type": "display_data"
    }
   ],
   "source": [
    "w = weight1\n",
    "plt.figure(figsize=(8, 8))\n",
    "plt.scatter(x1[y==1], x2[y==1], c='g')\n",
    "plt.scatter(x1[y==-1], x2[y==-1], c='r')\n",
    "a = -w[0] / w[1]\n",
    "xx = np.linspace(-3, 3)\n",
    "yy = a * xx\n",
    "plt.plot(xx, yy, 'k-')"
   ]
  },
  {
   "cell_type": "code",
   "execution_count": 599,
   "metadata": {
    "collapsed": true
   },
   "outputs": [],
   "source": [
    "import math\n",
    "def sparse_acceleratedProximal(X, y, w, n, lam, iter_num):\n",
    "    result = []\n",
    "    u = w\n",
    "    gamma = 1\n",
    "    for t in range(1, iter_num):\n",
    "        l_diff = SVM_smooth_diff(X, y, w, n, lam)\n",
    "        z = u - n * l_diff\n",
    "        w_pre = w\n",
    "        w = z\n",
    "        \n",
    "        # backtracking the step size\n",
    "        while (SVM_smooth(X, y, w, n, lam) > SVM_smooth(X, y, u, n, lam) + np.dot(w - u, l_diff) + \n",
    "               1.0 / (2 * n) * (np.linalg.norm(w - u, 2) ** 2)):\n",
    "            n = n / 2\n",
    "            w = u - n * l_diff\n",
    "        \n",
    "        # enforcing descending\n",
    "        if SVM_smooth(X, y, w, n, lam) > SVM_smooth(X, y, w_pre, n, lam):\n",
    "            w = w_pre\n",
    "            \n",
    "        gamma_pre = gamma\n",
    "        gamma = (1 + math.sqrt(1 + 4 * gamma ** 2)) / 2\n",
    "        \n",
    "        # extrapolation\n",
    "        u = w + (gamma_pre - 1) / gamma * (w - w_pre)\n",
    "        \n",
    "        result.append(SVM_smooth(X, y, w, n, lam))\n",
    "    return w, result"
   ]
  },
  {
   "cell_type": "code",
   "execution_count": 600,
   "metadata": {
    "collapsed": true
   },
   "outputs": [],
   "source": [
    "iter_num = 2000\n",
    "n = 1e-4\n",
    "lam = 0.1\n",
    "weight1, result1 = sparse_acceleratedProximal(X, y, np.ones(2), n, lam, iter_num)"
   ]
  },
  {
   "cell_type": "code",
   "execution_count": 601,
   "metadata": {
    "collapsed": false
   },
   "outputs": [
    {
     "data": {
      "text/plain": [
       "[<matplotlib.lines.Line2D at 0x1f999ecf2e8>]"
      ]
     },
     "execution_count": 601,
     "metadata": {},
     "output_type": "execute_result"
    },
    {
     "data": {
      "image/png": "[encoded data removed]",
      "text/plain": [
       "<matplotlib.figure.Figure at 0x1f999e65cf8>"
      ]
     },
     "metadata": {},
     "output_type": "display_data"
    }
   ],
   "source": [
    "plt.plot(result1)"
   ]
  },
  {
   "cell_type": "code",
   "execution_count": 602,
   "metadata": {
    "collapsed": false
   },
   "outputs": [
    {
     "data": {
      "text/plain": [
       "[<matplotlib.lines.Line2D at 0x1f999d26e80>]"
      ]
     },
     "execution_count": 602,
     "metadata": {},
     "output_type": "execute_result"
    },
    {
     "data": {
      "image/png": "[encoded data removed]",
      "text/plain": [
       "<matplotlib.figure.Figure at 0x1f999e73208>"
      ]
     },
     "metadata": {},
     "output_type": "display_data"
    }
   ],
   "source": [
    "w = weight1\n",
    "plt.figure(figsize=(8, 8))\n",
    "plt.scatter(x1[y==1], x2[y==1], c='g')\n",
    "plt.scatter(x1[y==-1], x2[y==-1], c='r')\n",
    "a = -w[0] / w[1]\n",
    "xx = np.linspace(-3, 3)\n",
    "yy = a * xx\n",
    "plt.plot(xx, yy, 'k-')"
   ]
  },
  {
   "cell_type": "code",
   "execution_count": null,
   "metadata": {
    "collapsed": true
   },
   "outputs": [],
   "source": []
  }
 ],
 "metadata": {
  "kernelspec": {
   "display_name": "Python 3",
   "language": "python",
   "name": "python3"
  },
  "language_info": {
   "codemirror_mode": {
    "name": "ipython",
    "version": 3
   },
   "file_extension": ".py",
   "mimetype": "text/x-python",
   "name": "python",
   "nbconvert_exporter": "python",
   "pygments_lexer": "ipython3",
   "version": "3.5.1"
  }
 },
 "nbformat": 4,
 "nbformat_minor": 0
}
